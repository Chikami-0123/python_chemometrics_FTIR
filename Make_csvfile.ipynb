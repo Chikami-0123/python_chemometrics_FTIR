{
 "cells": [
  {
   "cell_type": "code",
   "execution_count": 3,
   "metadata": {},
   "outputs": [],
   "source": [
    "import numpy as np\n",
    "import pandas as pd\n",
    "from matplotlib import pyplot as plt\n",
    "from matplotlib import ticker"
   ]
  },
  {
   "cell_type": "code",
   "execution_count": 15,
   "metadata": {},
   "outputs": [
    {
     "name": "stdout",
     "output_type": "stream",
     "text": [
      "/Users/chikamishunta/Desktop/SynologyDrive1/SynologyDrive/測定データ/20230331/Virgin_hair_20220311/D2O/Dry_hair_ATR_1pD2O.csv\n"
     ]
    }
   ],
   "source": [
    "#読み込むcsvを番号順に並べる→最後にprint(files)で確認する\n",
    "import re\n",
    "def atoi(text):\n",
    "    return int(text) if text.isdigit() else text\n",
    "\n",
    "def natural_keys(text):\n",
    "    return [ atoi(c) for c in re.split(r'(\\d+)', text) ]\n",
    "\n",
    "#フォルダ内のCSVファイルの一覧を取得, csv_filesとして保存する\n",
    "import glob\n",
    "import os\n",
    "csv_files = sorted(glob.glob('file'), key=natural_keys)\n",
    "\n",
    "for files in csv_files:\n",
    "    if 'R' in files:\n",
    "        os.remove(files)\n",
    "print(files)"
   ]
  },
  {
   "cell_type": "code",
   "execution_count": 16,
   "metadata": {},
   "outputs": [],
   "source": [
    "#結合csvファイルの中身を追加していくリストを用意する\n",
    "list = []\n",
    "\n",
    "#読み込むファイルのリストを操作\n",
    "for files in csv_files:\n",
    "    list.append(pd.read_csv(files))\n",
    "\n",
    "#axis=0なら縦方向に結合, #axis=1なら横方向に結合\n",
    "df = pd.concat(list, axis=1, sort=True)\n",
    "\n",
    "#19行目から4273行目(データ範囲)を抽出\n",
    "df = df[19:4272]\n",
    "\n",
    "#複数のwavenumber列を1つにする(カラムの要素の重複を削除する)\n",
    "#転置してから重複行を削除し，再度転置して元に戻す\n",
    "df = df.T.drop_duplicates().T \n",
    "\n",
    "#カラム名をrename\n",
    "df = df.rename(columns={'TITLE': 'wavenumber'})\n",
    "\n",
    "#list = [\"wavenumber\"]\n",
    "#for i in range(349):\n",
    "   # list.append(str(i))\n",
    " \n",
    "#df = df.set_axis(list, axis='columns')\n",
    "                        \n",
    "#ローカルに結合したcsvを保存する\n",
    "df.to_csv('file', index=False)"
   ]
  }
 ],
 "metadata": {
  "kernelspec": {
   "display_name": "python37",
   "language": "python",
   "name": "python3"
  },
  "language_info": {
   "codemirror_mode": {
    "name": "ipython",
    "version": 3
   },
   "file_extension": ".py",
   "mimetype": "text/x-python",
   "name": "python",
   "nbconvert_exporter": "python",
   "pygments_lexer": "ipython3",
   "version": "3.7.16"
  },
  "orig_nbformat": 4,
  "vscode": {
   "interpreter": {
    "hash": "364f72d3c5b6bcc82ea7a677733f1fbb26e38fb5d033042eb5effa985384d085"
   }
  }
 },
 "nbformat": 4,
 "nbformat_minor": 2
}
